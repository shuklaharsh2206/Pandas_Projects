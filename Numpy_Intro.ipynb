{
 "cells": [
  {
   "cell_type": "code",
   "execution_count": 1,
   "id": "81d3dc3c-2e3b-417e-8e1b-7e77ae164e20",
   "metadata": {},
   "outputs": [
    {
     "data": {
      "text/plain": [
       "{1, 2, 3, 4, 5, 6, 7, 8, 9, 10}"
      ]
     },
     "execution_count": 1,
     "metadata": {},
     "output_type": "execute_result"
    }
   ],
   "source": [
    "set_a={1,2,3,4,5,}\n",
    "set_b={3,6,7,9,8,10}\n",
    "set_b.union(set_a)"
   ]
  },
  {
   "cell_type": "code",
   "execution_count": 2,
   "id": "1e18d8bb-f57b-41c2-be17-454aa2bad69e",
   "metadata": {},
   "outputs": [],
   "source": [
    "set_a.update([4,8,3,11])"
   ]
  },
  {
   "cell_type": "code",
   "execution_count": 3,
   "id": "b96afefe-aff5-4c42-a631-4434553a94b6",
   "metadata": {},
   "outputs": [
    {
     "data": {
      "text/plain": [
       "{1, 2, 3, 4, 5, 8, 11}"
      ]
     },
     "execution_count": 3,
     "metadata": {},
     "output_type": "execute_result"
    }
   ],
   "source": [
    "set_a"
   ]
  },
  {
   "cell_type": "code",
   "execution_count": 4,
   "id": "90406bc7-5fef-4752-972d-72045c2f16a0",
   "metadata": {},
   "outputs": [
    {
     "name": "stdout",
     "output_type": "stream",
     "text": [
      "55\n"
     ]
    }
   ],
   "source": [
    "def ret_sum(A):\n",
    "    s=0\n",
    "    for i in A:\n",
    "        s=s+i\n",
    "    return s\n",
    "a=[1,2,3,4,5,6,7,8,9,10]\n",
    "s=ret_sum(a)\n",
    "print(s)"
   ]
  },
  {
   "cell_type": "code",
   "execution_count": 5,
   "id": "eb16ae10-255e-4d15-83f5-3b7799c206ee",
   "metadata": {},
   "outputs": [],
   "source": [
    "pointer=open('./First.txt','r')"
   ]
  },
  {
   "cell_type": "code",
   "execution_count": 6,
   "id": "81686c15-9c90-4dc5-8b98-dbdcfa741583",
   "metadata": {},
   "outputs": [
    {
     "data": {
      "text/plain": [
       "_io.TextIOWrapper"
      ]
     },
     "execution_count": 6,
     "metadata": {},
     "output_type": "execute_result"
    }
   ],
   "source": [
    "type(pointer)"
   ]
  },
  {
   "cell_type": "code",
   "execution_count": 7,
   "id": "dc48c9ca-2836-4475-8905-9b132eb4f3df",
   "metadata": {},
   "outputs": [
    {
     "data": {
      "text/plain": [
       "'This is not HarshNew line is added'"
      ]
     },
     "execution_count": 7,
     "metadata": {},
     "output_type": "execute_result"
    }
   ],
   "source": [
    "con=pointer.read()\n",
    "con"
   ]
  },
  {
   "cell_type": "code",
   "execution_count": 8,
   "id": "aa350f9c-ba8c-4b39-ae2f-7462a813ffcf",
   "metadata": {},
   "outputs": [],
   "source": [
    "pointer.close()"
   ]
  },
  {
   "cell_type": "code",
   "execution_count": 9,
   "id": "62094ca9-cf7d-482e-8541-b9692358fdef",
   "metadata": {},
   "outputs": [],
   "source": [
    "p2=open('./First.txt','w+')"
   ]
  },
  {
   "cell_type": "code",
   "execution_count": 10,
   "id": "ec4ceead-3824-421b-a8f8-9b4993e388bd",
   "metadata": {},
   "outputs": [
    {
     "data": {
      "text/plain": [
       "17"
      ]
     },
     "execution_count": 10,
     "metadata": {},
     "output_type": "execute_result"
    }
   ],
   "source": [
    "p2.write(\"This is not Harsh\")"
   ]
  },
  {
   "cell_type": "code",
   "execution_count": 11,
   "id": "d565b7e9-88fc-4bf6-967b-21121f63a4f0",
   "metadata": {},
   "outputs": [],
   "source": [
    "p2.close()"
   ]
  },
  {
   "cell_type": "code",
   "execution_count": 12,
   "id": "48c3721e-e4a9-4850-8df7-def0ee012b9d",
   "metadata": {},
   "outputs": [],
   "source": [
    "p=open('./First.txt','r')\n"
   ]
  },
  {
   "cell_type": "code",
   "execution_count": 13,
   "id": "92a05619-a9d2-4d2f-bd23-49990feb7783",
   "metadata": {},
   "outputs": [
    {
     "data": {
      "text/plain": [
       "'This is not Harsh'"
      ]
     },
     "execution_count": 13,
     "metadata": {},
     "output_type": "execute_result"
    }
   ],
   "source": [
    "p.read()"
   ]
  },
  {
   "cell_type": "code",
   "execution_count": 14,
   "id": "a5d840d7-4e1a-4f3b-b361-5074127c03b1",
   "metadata": {},
   "outputs": [],
   "source": [
    "p.close()"
   ]
  },
  {
   "cell_type": "code",
   "execution_count": 15,
   "id": "fb017dc8-3a0a-4ce2-8425-f660b2b4f88b",
   "metadata": {},
   "outputs": [],
   "source": [
    "p2=open('./First.txt','a')\n"
   ]
  },
  {
   "cell_type": "code",
   "execution_count": 16,
   "id": "429ef835-653d-454b-badc-14522234d078",
   "metadata": {},
   "outputs": [
    {
     "data": {
      "text/plain": [
       "17"
      ]
     },
     "execution_count": 16,
     "metadata": {},
     "output_type": "execute_result"
    }
   ],
   "source": [
    "p2.write('New line is added')"
   ]
  },
  {
   "cell_type": "code",
   "execution_count": 17,
   "id": "f66a2672-0ccc-41cc-9a93-6fad19b99baf",
   "metadata": {},
   "outputs": [],
   "source": [
    "p2.close()\n"
   ]
  },
  {
   "cell_type": "code",
   "execution_count": 18,
   "id": "9bfb63a4-92fa-4801-87bd-c12ad8b2bc51",
   "metadata": {},
   "outputs": [
    {
     "data": {
      "text/plain": [
       "'This is not HarshNew line is added'"
      ]
     },
     "execution_count": 18,
     "metadata": {},
     "output_type": "execute_result"
    }
   ],
   "source": [
    "p=open('./First.txt','r')\n",
    "p.read()"
   ]
  },
  {
   "cell_type": "code",
   "execution_count": 19,
   "id": "2e2d9ddb-9442-4d47-945c-876fc5cb528d",
   "metadata": {},
   "outputs": [],
   "source": [
    "import numpy as np"
   ]
  },
  {
   "cell_type": "code",
   "execution_count": 20,
   "id": "f56c27f5-f46f-48ee-9816-efdcd9f08dc9",
   "metadata": {},
   "outputs": [],
   "source": [
    "df = np.array([1,2,3,4,5,6])"
   ]
  },
  {
   "cell_type": "code",
   "execution_count": 21,
   "id": "c47a3eb7-becf-4165-ac7a-dd87f5254cfd",
   "metadata": {},
   "outputs": [
    {
     "data": {
      "text/plain": [
       "array([1, 2, 3, 4, 5, 6])"
      ]
     },
     "execution_count": 21,
     "metadata": {},
     "output_type": "execute_result"
    }
   ],
   "source": [
    "df"
   ]
  },
  {
   "cell_type": "code",
   "execution_count": 22,
   "id": "3329e7ea-29f4-4cf7-a48a-23dbdcf44d43",
   "metadata": {},
   "outputs": [
    {
     "data": {
      "text/plain": [
       "numpy.ndarray"
      ]
     },
     "execution_count": 22,
     "metadata": {},
     "output_type": "execute_result"
    }
   ],
   "source": [
    "type(df)"
   ]
  },
  {
   "cell_type": "code",
   "execution_count": 23,
   "id": "93456341-6266-42c0-a620-1c98c30c179b",
   "metadata": {},
   "outputs": [
    {
     "data": {
      "text/plain": [
       "(6,)"
      ]
     },
     "execution_count": 23,
     "metadata": {},
     "output_type": "execute_result"
    }
   ],
   "source": [
    "df.shape"
   ]
  },
  {
   "cell_type": "code",
   "execution_count": 24,
   "id": "3716827e-1e69-4ccc-aabe-02f4e354fc13",
   "metadata": {},
   "outputs": [
    {
     "data": {
      "text/plain": [
       "array([[ 1,  2,  3,  4,  5],\n",
       "       [11, 12, 13, 14, 15]])"
      ]
     },
     "execution_count": 24,
     "metadata": {},
     "output_type": "execute_result"
    }
   ],
   "source": [
    "df2=np.array([[1,2,3,4,5],[11,12,13,14,15]])\n",
    "df2"
   ]
  },
  {
   "cell_type": "code",
   "execution_count": 25,
   "id": "92950466-89e4-497d-9205-dde4e85cf156",
   "metadata": {},
   "outputs": [
    {
     "data": {
      "text/plain": [
       "2"
      ]
     },
     "execution_count": 25,
     "metadata": {},
     "output_type": "execute_result"
    }
   ],
   "source": [
    "df2.ndim"
   ]
  },
  {
   "cell_type": "code",
   "execution_count": 26,
   "id": "67ce45da-62dc-4c21-8ec8-fc2b1ed955b3",
   "metadata": {},
   "outputs": [
    {
     "data": {
      "text/plain": [
       "(2, 5)"
      ]
     },
     "execution_count": 26,
     "metadata": {},
     "output_type": "execute_result"
    }
   ],
   "source": [
    "df2.shape"
   ]
  },
  {
   "cell_type": "code",
   "execution_count": 27,
   "id": "dea83875-97d1-401a-948d-022952385173",
   "metadata": {},
   "outputs": [
    {
     "data": {
      "text/plain": [
       "80"
      ]
     },
     "execution_count": 27,
     "metadata": {},
     "output_type": "execute_result"
    }
   ],
   "source": [
    "df2.sum()"
   ]
  },
  {
   "cell_type": "code",
   "execution_count": 28,
   "id": "7ac83147-b714-4295-ac66-cf9753be1e24",
   "metadata": {},
   "outputs": [
    {
     "data": {
      "text/plain": [
       "array([15, 65])"
      ]
     },
     "execution_count": 28,
     "metadata": {},
     "output_type": "execute_result"
    }
   ],
   "source": [
    "df2.sum(axis=1)"
   ]
  },
  {
   "cell_type": "code",
   "execution_count": 31,
   "id": "591fce0d-eba0-4fb0-9f44-411d9d8fb799",
   "metadata": {},
   "outputs": [],
   "source": [
    "ran_array=np.random.random(size=(3,4))"
   ]
  },
  {
   "cell_type": "code",
   "execution_count": 32,
   "id": "9591e501-cf2e-43de-9ef4-642a69bbb4ed",
   "metadata": {},
   "outputs": [
    {
     "data": {
      "text/plain": [
       "array([[0., 0., 0.],\n",
       "       [0., 0., 0.]])"
      ]
     },
     "execution_count": 32,
     "metadata": {},
     "output_type": "execute_result"
    }
   ],
   "source": [
    "np.zeros(shape=(2,3))"
   ]
  },
  {
   "cell_type": "code",
   "execution_count": 33,
   "id": "e2c2cd0b-21e7-46b9-8865-1a48b309255e",
   "metadata": {},
   "outputs": [
    {
     "data": {
      "text/plain": [
       "array([[1., 1., 1.],\n",
       "       [1., 1., 1.]])"
      ]
     },
     "execution_count": 33,
     "metadata": {},
     "output_type": "execute_result"
    }
   ],
   "source": [
    "np.ones(shape=(2,3))"
   ]
  },
  {
   "cell_type": "code",
   "execution_count": 36,
   "id": "c9692688-6e52-41f8-a435-c3cbcc66b200",
   "metadata": {},
   "outputs": [
    {
     "data": {
      "text/plain": [
       "array([[22, 22, 22],\n",
       "       [22, 22, 22]])"
      ]
     },
     "execution_count": 36,
     "metadata": {},
     "output_type": "execute_result"
    }
   ],
   "source": [
    "np.full(shape=(2,3),fill_value=22)"
   ]
  },
  {
   "cell_type": "code",
   "execution_count": 37,
   "id": "fdfc22fe-ac70-4737-a2f9-d3273679b935",
   "metadata": {},
   "outputs": [
    {
     "data": {
      "text/plain": [
       "array([[6.43841394e-01, 9.39580299e-02, 2.63417152e-01, 4.61777934e-01],\n",
       "       [3.76471808e-01, 3.73270282e-01, 2.25260482e-01, 4.90936237e-04],\n",
       "       [7.74486987e-01, 2.24874056e-01, 6.65478345e-01, 4.07183785e-01]])"
      ]
     },
     "execution_count": 37,
     "metadata": {},
     "output_type": "execute_result"
    }
   ],
   "source": [
    "ran_array\n"
   ]
  },
  {
   "cell_type": "code",
   "execution_count": 39,
   "id": "8f9eb984-0331-485d-8cff-4bf2abd98d24",
   "metadata": {},
   "outputs": [
    {
     "data": {
      "text/plain": [
       "array([[6.43841394e-01, 3.76471808e-01, 7.74486987e-01],\n",
       "       [9.39580299e-02, 3.73270282e-01, 2.24874056e-01],\n",
       "       [2.63417152e-01, 2.25260482e-01, 6.65478345e-01],\n",
       "       [4.61777934e-01, 4.90936237e-04, 4.07183785e-01]])"
      ]
     },
     "execution_count": 39,
     "metadata": {},
     "output_type": "execute_result"
    }
   ],
   "source": [
    "#Transpose\n",
    "ran_array.T"
   ]
  },
  {
   "cell_type": "code",
   "execution_count": 40,
   "id": "c6985e31-2ec9-470f-9fe2-fe6686d83b01",
   "metadata": {},
   "outputs": [],
   "source": [
    "ran_sq=np.random.random(size=(4,4))"
   ]
  },
  {
   "cell_type": "code",
   "execution_count": 41,
   "id": "3db2bd4d-6850-4ef4-a77f-7b67eca23159",
   "metadata": {},
   "outputs": [
    {
     "data": {
      "text/plain": [
       "array([[0.23087381, 0.55360884, 0.32901844, 0.50788441],\n",
       "       [0.59931022, 0.70869309, 0.22386845, 0.34603643],\n",
       "       [0.89772466, 0.83837095, 0.11863331, 0.33534309],\n",
       "       [0.68379924, 0.90695933, 0.82676079, 0.12208925]])"
      ]
     },
     "execution_count": 41,
     "metadata": {},
     "output_type": "execute_result"
    }
   ],
   "source": [
    "ran_sq"
   ]
  },
  {
   "cell_type": "code",
   "execution_count": 44,
   "id": "198f6d3c-81c5-4955-b35a-fb1c42981d0f",
   "metadata": {},
   "outputs": [],
   "source": [
    "ident=np.identity(4)"
   ]
  },
  {
   "cell_type": "code",
   "execution_count": 45,
   "id": "e6e61a21-b694-4473-b709-0143bd346a22",
   "metadata": {},
   "outputs": [
    {
     "data": {
      "text/plain": [
       "array([[1., 0., 0., 0.],\n",
       "       [0., 1., 0., 0.],\n",
       "       [0., 0., 1., 0.],\n",
       "       [0., 0., 0., 1.]])"
      ]
     },
     "execution_count": 45,
     "metadata": {},
     "output_type": "execute_result"
    }
   ],
   "source": [
    "ident\n"
   ]
  },
  {
   "cell_type": "code",
   "execution_count": 46,
   "id": "4d3fc0f5-b381-4ca3-b782-812c1ce51eec",
   "metadata": {},
   "outputs": [
    {
     "data": {
      "text/plain": [
       "array([[0.23087381, 0.55360884, 0.32901844, 0.50788441],\n",
       "       [0.59931022, 0.70869309, 0.22386845, 0.34603643],\n",
       "       [0.89772466, 0.83837095, 0.11863331, 0.33534309],\n",
       "       [0.68379924, 0.90695933, 0.82676079, 0.12208925]])"
      ]
     },
     "execution_count": 46,
     "metadata": {},
     "output_type": "execute_result"
    }
   ],
   "source": [
    "np.dot(ident,ran_sq)"
   ]
  },
  {
   "cell_type": "code",
   "execution_count": 48,
   "id": "d95dd597-2871-435b-9fd7-85b98d094892",
   "metadata": {},
   "outputs": [],
   "source": [
    "Inv_sq=np.linalg.inv(ran_sq)"
   ]
  },
  {
   "cell_type": "code",
   "execution_count": 49,
   "id": "40622ac6-b063-436b-85e7-91861d38fa84",
   "metadata": {},
   "outputs": [
    {
     "data": {
      "text/plain": [
       "array([[ 1.00000000e+00, -4.02178205e-15, -6.10087451e-16,\n",
       "        -1.66716777e-15],\n",
       "       [-2.75331144e-17,  1.00000000e+00, -1.02102212e-15,\n",
       "         1.31590067e-15],\n",
       "       [ 1.67891650e-15,  1.05204766e-15,  1.00000000e+00,\n",
       "        -2.83188476e-16],\n",
       "       [ 8.07470384e-16,  3.01942693e-16,  4.01520818e-16,\n",
       "         1.00000000e+00]])"
      ]
     },
     "execution_count": 49,
     "metadata": {},
     "output_type": "execute_result"
    }
   ],
   "source": [
    "np.dot(Inv_sq,ran_sq)"
   ]
  },
  {
   "cell_type": "code",
   "execution_count": 50,
   "id": "07fafdab-7b3f-437f-a3ae-f6cf8503f234",
   "metadata": {},
   "outputs": [],
   "source": [
    "arr3=np.random.random(size=(3,4))"
   ]
  },
  {
   "cell_type": "code",
   "execution_count": 51,
   "id": "bfd88e5a-6492-4b2c-94fd-d15a545e6614",
   "metadata": {},
   "outputs": [
    {
     "data": {
      "text/plain": [
       "array([[0.99351662, 0.29950418, 0.612129  , 0.34089763],\n",
       "       [0.53090925, 0.79151662, 0.13111964, 0.74919357],\n",
       "       [0.0608211 , 0.02369661, 0.13405694, 0.08594338]])"
      ]
     },
     "execution_count": 51,
     "metadata": {},
     "output_type": "execute_result"
    }
   ],
   "source": [
    "arr3"
   ]
  },
  {
   "cell_type": "code",
   "execution_count": 52,
   "id": "26f56b32-c158-489a-9ea0-68ced1fad497",
   "metadata": {},
   "outputs": [
    {
     "data": {
      "text/plain": [
       "array([[3.99351662, 3.29950418, 3.612129  , 3.34089763],\n",
       "       [3.53090925, 3.79151662, 3.13111964, 3.74919357],\n",
       "       [3.0608211 , 3.02369661, 3.13405694, 3.08594338]])"
      ]
     },
     "execution_count": 52,
     "metadata": {},
     "output_type": "execute_result"
    }
   ],
   "source": [
    "arr3+ 3"
   ]
  },
  {
   "cell_type": "code",
   "execution_count": 55,
   "id": "303fcf23-c65f-44a5-87e6-792167b34576",
   "metadata": {},
   "outputs": [],
   "source": [
    "arr5=np.full(shape=(3,4),fill_value=5)"
   ]
  },
  {
   "cell_type": "code",
   "execution_count": null,
   "id": "112ed4b7-9e88-466b-8eae-15d2e5c832a0",
   "metadata": {},
   "outputs": [],
   "source": []
  }
 ],
 "metadata": {
  "kernelspec": {
   "display_name": "Python 3 (ipykernel)",
   "language": "python",
   "name": "python3"
  },
  "language_info": {
   "codemirror_mode": {
    "name": "ipython",
    "version": 3
   },
   "file_extension": ".py",
   "mimetype": "text/x-python",
   "name": "python",
   "nbconvert_exporter": "python",
   "pygments_lexer": "ipython3",
   "version": "3.12.1"
  }
 },
 "nbformat": 4,
 "nbformat_minor": 5
}
